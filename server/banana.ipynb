{
 "cells": [
  {
   "cell_type": "code",
   "execution_count": 1,
   "id": "c9f3f3d9",
   "metadata": {},
   "outputs": [],
   "source": [
    "from ultralytics import YOLO"
   ]
  },
  {
   "cell_type": "code",
   "execution_count": null,
   "id": "2d651bae",
   "metadata": {},
   "outputs": [
    {
     "name": "stdout",
     "output_type": "stream",
     "text": [
      "WARNING Unable to automatically guess model task, assuming 'task=detect'. Explicitly define task for your model, i.e. 'task=detect', 'segment', 'classify','pose' or 'obb'.\n",
      "Loading Banana_yolo.onnx for ONNX Runtime inference...\n",
      "Using ONNX Runtime CUDAExecutionProvider\n",
      "\n",
      "image 1/1 c:\\xampp\\htdocs\\banana-yolo\\server\\Test\\TestFiles_(5).jpg: 288x416 1 ripe, 110.1ms\n",
      "Speed: 112.8ms preprocess, 110.1ms inference, 172.2ms postprocess per image at shape (1, 3, 288, 416)\n"
     ]
    }
   ],
   "source": [
    "# Load the exported ONNX model\n",
    "onnx_model = YOLO(\"Banana_yolo.onnx\")\n",
    "\n",
    "# Run inference\n",
    "results_onnx = onnx_model(\"Test/TestFiles_(5).jpg\")  # Predict on an image\n",
    "results_onnx[0].show()  # Display results"
   ]
  }
 ],
 "metadata": {
  "kernelspec": {
   "display_name": "ultralytics",
   "language": "python",
   "name": "python3"
  },
  "language_info": {
   "codemirror_mode": {
    "name": "ipython",
    "version": 3
   },
   "file_extension": ".py",
   "mimetype": "text/x-python",
   "name": "python",
   "nbconvert_exporter": "python",
   "pygments_lexer": "ipython3",
   "version": "3.12.9"
  }
 },
 "nbformat": 4,
 "nbformat_minor": 5
}
